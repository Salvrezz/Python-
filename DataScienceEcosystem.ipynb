{
 "cells": [
  {
   "cell_type": "markdown",
   "id": "d6536b28-0dcb-4c0f-b19e-859f2654a055",
   "metadata": {},
   "source": [
    "## Author\n",
    "Izuazu Rock Chibuike"
   ]
  },
  {
   "cell_type": "markdown",
   "id": "5cb29910-2648-4639-9316-b8d4c0423abb",
   "metadata": {},
   "source": []
  }
 ],
 "metadata": {
  "kernelspec": {
   "display_name": "Python 3 (ipykernel)",
   "language": "python",
   "name": "python3"
  },
  "language_info": {
   "codemirror_mode": {
    "name": "ipython",
    "version": 3
   },
   "file_extension": ".py",
   "mimetype": "text/x-python",
   "name": "python",
   "nbconvert_exporter": "python",
   "pygments_lexer": "ipython3",
   "version": "3.13.5"
  }
 },
 "nbformat": 4,
 "nbformat_minor": 5
}
